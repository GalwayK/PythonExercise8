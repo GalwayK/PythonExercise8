{
 "cells": [
  {
   "cell_type": "markdown",
   "id": "a27e4753-58ce-49fd-8c44-6a0a767b8273",
   "metadata": {},
   "source": [
    "# Imports and loading the book"
   ]
  },
  {
   "cell_type": "code",
   "execution_count": 1,
   "id": "026971b5-a3e5-46d1-9d4d-39db18cf41d7",
   "metadata": {},
   "outputs": [],
   "source": [
    "import nltk\n",
    "import re\n",
    "book = None\n",
    "with open(\"files/miracle_in_the_andes.txt\", \"r\",  encoding='utf-8') as file:\n",
    "    book = file.read()"
   ]
  },
  {
   "cell_type": "markdown",
   "id": "f1cdeea3-0486-40ea-ae2a-52614e7964aa",
   "metadata": {},
   "source": [
    "# The most used words (non-articles)"
   ]
  },
  {
   "cell_type": "code",
   "execution_count": 2,
   "id": "2e9cd609-4306-4b45-a597-230c4cac951e",
   "metadata": {},
   "outputs": [
    {
     "data": {
      "text/plain": [
       "['chapter', 'before', 'it', 'was', 'friday']"
      ]
     },
     "execution_count": 2,
     "metadata": {},
     "output_type": "execute_result"
    }
   ],
   "source": [
    "pattern = re.compile(\"[a-zA-Z]+\")\n",
    "findings = re.findall(pattern, book.lower())\n",
    "findings[:5]"
   ]
  },
  {
   "cell_type": "code",
   "execution_count": 3,
   "id": "12bd71c5-dd08-44bd-8195-f42f3ae9aaa7",
   "metadata": {},
   "outputs": [],
   "source": [
    "d = {}\n",
    "for word in findings:\n",
    "    if word in d.keys():\n",
    "        d[word] = d[word] + 1\n",
    "    else: \n",
    "        d[word] = 1"
   ]
  },
  {
   "cell_type": "code",
   "execution_count": 4,
   "id": "58d853cb-24dd-4b81-90ae-37f07af374fb",
   "metadata": {},
   "outputs": [
    {
     "data": {
      "text/plain": [
       "[(5346, 'the'), (2795, 'and'), (2729, 'i'), (2400, 'to'), (2060, 'of')]"
      ]
     },
     "execution_count": 4,
     "metadata": {},
     "output_type": "execute_result"
    }
   ],
   "source": [
    "d_list = [(value, key) for (key, value) in d.items()]\n",
    "sorted_list = sorted(d_list, reverse=True)\n",
    "sorted_list[:5]"
   ]
  },
  {
   "cell_type": "code",
   "execution_count": 5,
   "id": "08af9bee-a45e-4c6b-97e0-cb670890e18d",
   "metadata": {},
   "outputs": [
    {
     "name": "stdout",
     "output_type": "stream",
     "text": [
      "Requirement already satisfied: nltk in c:\\users\\liam g\\appdata\\local\\programs\\python\\python310\\lib\\site-packages (3.8.1)\n",
      "Requirement already satisfied: regex>=2021.8.3 in c:\\users\\liam g\\appdata\\local\\programs\\python\\python310\\lib\\site-packages (from nltk) (2022.10.31)\n",
      "Requirement already satisfied: tqdm in c:\\users\\liam g\\appdata\\local\\programs\\python\\python310\\lib\\site-packages (from nltk) (4.64.1)\n",
      "Requirement already satisfied: joblib in c:\\users\\liam g\\appdata\\local\\programs\\python\\python310\\lib\\site-packages (from nltk) (1.2.0)\n",
      "Requirement already satisfied: click in c:\\users\\liam g\\appdata\\local\\programs\\python\\python310\\lib\\site-packages (from nltk) (8.1.3)\n",
      "Requirement already satisfied: colorama in c:\\users\\liam g\\appdata\\local\\programs\\python\\python310\\lib\\site-packages (from click->nltk) (0.4.6)\n"
     ]
    },
    {
     "name": "stderr",
     "output_type": "stream",
     "text": [
      "\n",
      "[notice] A new release of pip available: 22.3.1 -> 23.0\n",
      "[notice] To update, run: python.exe -m pip install --upgrade pip\n",
      "[nltk_data] Downloading package stopwords to C:\\Users\\Liam\n",
      "[nltk_data]     G\\AppData\\Roaming\\nltk_data...\n",
      "[nltk_data]   Package stopwords is already up-to-date!\n"
     ]
    },
    {
     "data": {
      "text/plain": [
       "True"
      ]
     },
     "execution_count": 5,
     "metadata": {},
     "output_type": "execute_result"
    }
   ],
   "source": [
    "!pip3.10 install nltk\n",
    "import nltk \n",
    "nltk.download(\"stopwords\")"
   ]
  },
  {
   "cell_type": "code",
   "execution_count": 6,
   "id": "1dade1d7-5592-4889-9fda-07f85cc49b99",
   "metadata": {},
   "outputs": [],
   "source": [
    "from nltk.corpus import stopwords\n",
    "english_stopwords = stopwords.words(\"english\")"
   ]
  },
  {
   "cell_type": "code",
   "execution_count": 7,
   "id": "1c302850-e472-4ded-8861-44a1a579d48b",
   "metadata": {},
   "outputs": [],
   "source": [
    "book_stopwords = [(word, count) for (count, word) in sorted_list if word in english_stopwords]"
   ]
  },
  {
   "cell_type": "code",
   "execution_count": 8,
   "id": "042c614f-c234-4912-bcd0-710a485eeea3",
   "metadata": {},
   "outputs": [
    {
     "data": {
      "text/plain": [
       "[('the', 5346), ('and', 2795), ('i', 2729), ('to', 2400), ('of', 2060)]"
      ]
     },
     "execution_count": 8,
     "metadata": {},
     "output_type": "execute_result"
    }
   ],
   "source": [
    "book_stopwords[:5]"
   ]
  },
  {
   "cell_type": "code",
   "execution_count": 9,
   "id": "3ac075e9-6534-42b9-8bfd-f62c06f1be52",
   "metadata": {},
   "outputs": [],
   "source": [
    "filtered_words = []\n",
    "for count, word in d_list:\n",
    "    if word not in english_stopwords:\n",
    "        filtered_words.append((count, word))\n",
    "sorted_non_stopwords = sorted(filtered_words, reverse=True)"
   ]
  },
  {
   "cell_type": "markdown",
   "id": "816637f6-9d7f-4a67-ac41-f8519b19cb20",
   "metadata": {},
   "source": [
    "# Sentiment Analysis: What is the most positive and negative chapter"
   ]
  },
  {
   "cell_type": "code",
   "execution_count": 10,
   "id": "379e3da4-009c-4d70-a9d8-56cc167ad993",
   "metadata": {},
   "outputs": [],
   "source": [
    "from nltk.sentiment import SentimentIntensityAnalyzer"
   ]
  },
  {
   "cell_type": "code",
   "execution_count": null,
   "id": "0c7efa36-cace-407a-b6c1-ab493156c92b",
   "metadata": {},
   "outputs": [
    {
     "name": "stderr",
     "output_type": "stream",
     "text": [
      "[nltk_data] Downloading package vader_lexicon to C:\\Users\\Liam\n",
      "[nltk_data]     G\\AppData\\Roaming\\nltk_data...\n",
      "[nltk_data]   Package vader_lexicon is already up-to-date!\n"
     ]
    },
    {
     "data": {
      "text/plain": [
       "<nltk.sentiment.vader.SentimentIntensityAnalyzer at 0x14111bc1090>"
      ]
     },
     "execution_count": 11,
     "metadata": {},
     "output_type": "execute_result"
    }
   ],
   "source": [
    "nltk.download(\"vader_lexicon\")\n",
    "analyzer = SentimentIntensityAnalyzer()\n",
    "analyzer"
   ]
  },
  {
   "cell_type": "code",
   "execution_count": 12,
   "id": "7ed3b540-f6c8-4d15-b58b-f448703c3b15",
   "metadata": {},
   "outputs": [],
   "source": [
    "scores = analyzer.polarity_scores(book)"
   ]
  },
  {
   "cell_type": "code",
   "execution_count": 13,
   "id": "9eb002cc-fafb-49bd-81f1-09ae3e95df13",
   "metadata": {},
   "outputs": [
    {
     "data": {
      "text/plain": [
       "{'neg': 0.116, 'neu': 0.76, 'pos': 0.125, 'compound': 1.0}"
      ]
     },
     "execution_count": 13,
     "metadata": {},
     "output_type": "execute_result"
    }
   ],
   "source": [
    "scores"
   ]
  },
  {
   "cell_type": "code",
   "execution_count": 14,
   "id": "b2b302e3-4600-48fc-bc25-7f29af324a8a",
   "metadata": {},
   "outputs": [
    {
     "name": "stdout",
     "output_type": "stream",
     "text": [
      "Overall, the book is positive.\n"
     ]
    }
   ],
   "source": [
    "if scores[\"pos\"] > scores[\"neg\"]:\n",
    "    print(\"Overall, the book is positive.\")\n",
    "else: \n",
    "    print(\"Ooof, the text is negative.\")"
   ]
  },
  {
   "cell_type": "code",
   "execution_count": 35,
   "id": "902842c4-2133-4ae5-9cef-e30fb504d094",
   "metadata": {},
   "outputs": [
    {
     "name": "stdout",
     "output_type": "stream",
     "text": [
      "1: {'neg': 0.061, 'neu': 0.779, 'pos': 0.16, 'compound': 1.0}\n",
      "2: {'neg': 0.12, 'neu': 0.726, 'pos': 0.154, 'compound': 0.9991}\n",
      "3: {'neg': 0.145, 'neu': 0.751, 'pos': 0.105, 'compound': -0.9999}\n",
      "4: {'neg': 0.141, 'neu': 0.721, 'pos': 0.138, 'compound': -0.9963}\n",
      "5: {'neg': 0.118, 'neu': 0.742, 'pos': 0.141, 'compound': 0.9997}\n",
      "6: {'neg': 0.124, 'neu': 0.761, 'pos': 0.115, 'compound': -0.9979}\n",
      "7: {'neg': 0.136, 'neu': 0.761, 'pos': 0.103, 'compound': -0.9999}\n",
      "8: {'neg': 0.12, 'neu': 0.786, 'pos': 0.094, 'compound': -0.9998}\n",
      "9: {'neg': 0.097, 'neu': 0.824, 'pos': 0.079, 'compound': -0.9996}\n",
      "10: {'neg': 0.086, 'neu': 0.733, 'pos': 0.181, 'compound': 1.0}\n"
     ]
    }
   ],
   "source": [
    "pattern = re.compile(\"Chapter [0-9]+\")\n",
    "chapter_list = re.split(pattern, book)\n",
    "chapter_list = chapter_list[1:]\n",
    "chapter_score_dict = {}\n",
    "\n",
    "for index, chapter in enumerate(chapter_list):\n",
    "    chapter_score_dict[index + 1] = analyzer.polarity_scores(chapter)\n",
    "    \n",
    "for key in chapter_score_dict.keys():\n",
    "    print(f\"{key}: {chapter_score_dict[key]}\")\n",
    "    \n",
    "# sorted_chapters_scores = sorted(list(chapter_score_dict.values)[\"pos\"])\n",
    "# print(sorted_chapters_scores)"
   ]
  },
  {
   "cell_type": "code",
   "execution_count": null,
   "id": "180d190d-1c2c-4c70-9882-a50536970aed",
   "metadata": {},
   "outputs": [],
   "source": []
  }
 ],
 "metadata": {
  "kernelspec": {
   "display_name": "Python 3 (ipykernel)",
   "language": "python",
   "name": "python3"
  },
  "language_info": {
   "codemirror_mode": {
    "name": "ipython",
    "version": 3
   },
   "file_extension": ".py",
   "mimetype": "text/x-python",
   "name": "python",
   "nbconvert_exporter": "python",
   "pygments_lexer": "ipython3",
   "version": "3.10.9"
  }
 },
 "nbformat": 4,
 "nbformat_minor": 5
}
