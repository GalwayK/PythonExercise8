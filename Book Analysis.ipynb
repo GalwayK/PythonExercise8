{
 "cells": [
  {
   "cell_type": "markdown",
   "id": "729ad58b-5e83-40f4-9f4a-b5ae05f3f26a",
   "metadata": {},
   "source": [
    "# Performing book analysis with Jupyter Lab"
   ]
  },
  {
   "cell_type": "code",
   "execution_count": 65,
   "id": "7b9a37ce-d30e-4dc3-bfb0-a140dad7aa1a",
   "metadata": {},
   "outputs": [],
   "source": [
    "with open(\"files/miracle_in_the_andes.txt\", \"r\", encoding='utf-8') as file: \n",
    "    book = file.read()"
   ]
  },
  {
   "cell_type": "markdown",
   "id": "3d105069-6810-4957-8b86-c259de3c53d0",
   "metadata": {},
   "source": [
    "# Calculate how many chapters are in the book"
   ]
  },
  {
   "cell_type": "code",
   "execution_count": 66,
   "id": "94976b6b-2da4-4087-ab4f-3666366f81f7",
   "metadata": {},
   "outputs": [
    {
     "data": {
      "text/plain": [
       "11"
      ]
     },
     "execution_count": 66,
     "metadata": {},
     "output_type": "execute_result"
    }
   ],
   "source": [
    "book_count = book.count(\"Chapter\")\n",
    "book_count"
   ]
  },
  {
   "cell_type": "code",
   "execution_count": 67,
   "id": "672a836c-28f5-460d-a451-392984d248e9",
   "metadata": {},
   "outputs": [],
   "source": [
    "import re"
   ]
  },
  {
   "cell_type": "code",
   "execution_count": 68,
   "id": "48729077-de6a-43a3-b403-1a1c1d9c07b5",
   "metadata": {},
   "outputs": [
    {
     "data": {
      "text/plain": [
       "10"
      ]
     },
     "execution_count": 68,
     "metadata": {},
     "output_type": "execute_result"
    }
   ],
   "source": [
    "pattern = re.compile(\"Chapter [0-9]+\")\n",
    "number_chapters = len(re.findall(pattern, book))\n",
    "number_chapters"
   ]
  },
  {
   "cell_type": "markdown",
   "id": "e644f2c3-07bb-4e37-8305-03bb30d51bc4",
   "metadata": {},
   "source": [
    "# Which sentences contain the word love? "
   ]
  },
  {
   "cell_type": "code",
   "execution_count": 69,
   "id": "703dabaf-bd85-43f0-b269-f8ea1ede210d",
   "metadata": {},
   "outputs": [
    {
     "data": {
      "text/plain": [
       "67"
      ]
     },
     "execution_count": 69,
     "metadata": {},
     "output_type": "execute_result"
    }
   ],
   "source": [
    "pattern = re.compile(\"[A-Z][^\\.]* [Ll]ove[ \\,\\.][^\\.]*\\.\")\n",
    "love_count = len((re.findall(pattern, book)))\n",
    "love_count"
   ]
  },
  {
   "cell_type": "markdown",
   "id": "b5f02a82-7265-4482-8400-c61b64fff4dc",
   "metadata": {},
   "source": [
    "# Find count of all words"
   ]
  },
  {
   "cell_type": "code",
   "execution_count": 72,
   "id": "2d60360f-168e-40fe-acb4-3d057ac514e8",
   "metadata": {},
   "outputs": [],
   "source": [
    "pattern = re.compile(\" [A-Za-z]+[ \\.\\,]\")\n",
    "words = re.findall(pattern, book.lower())"
   ]
  },
  {
   "cell_type": "code",
   "execution_count": 80,
   "id": "9474bbf8-eee8-4b88-9a6b-95b6a0e38523",
   "metadata": {},
   "outputs": [],
   "source": [
    "word_count_dict = {}\n",
    "for word in words:\n",
    "    if word in word_count_dict.keys():\n",
    "        word_count_dict[word] = word_count_dict[word] + 1\n",
    "    else:\n",
    "        word_count_dict[word] = 1\n",
    "word_count_tuple = [(value, key) for (key, value) in word_count_dict.items()]\n",
    "word_count_tuple.sort(reverse=True)"
   ]
  },
  {
   "cell_type": "code",
   "execution_count": null,
   "id": "c8f3efc9-833c-4e9c-af21-59947e4fb830",
   "metadata": {},
   "outputs": [],
   "source": []
  }
 ],
 "metadata": {
  "kernelspec": {
   "display_name": "Python 3 (ipykernel)",
   "language": "python",
   "name": "python3"
  },
  "language_info": {
   "codemirror_mode": {
    "name": "ipython",
    "version": 3
   },
   "file_extension": ".py",
   "mimetype": "text/x-python",
   "name": "python",
   "nbconvert_exporter": "python",
   "pygments_lexer": "ipython3",
   "version": "3.10.9"
  }
 },
 "nbformat": 4,
 "nbformat_minor": 5
}
