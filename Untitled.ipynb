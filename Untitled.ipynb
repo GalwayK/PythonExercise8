{
 "cells": [
  {
   "cell_type": "code",
   "execution_count": 3,
   "id": "c70ea0b4-b09a-4f37-84cd-34048524ed81",
   "metadata": {},
   "outputs": [],
   "source": [
    "with open(\"files/miracle_in_the_andes.txt\", \"r\", encoding=\"utf-8\") as file: \n",
    "    book = file.read()\n",
    "    \n"
   ]
  },
  {
   "cell_type": "code",
   "execution_count": 4,
   "id": "d804ed52-733a-475c-9322-7e88571a81cd",
   "metadata": {},
   "outputs": [
    {
     "data": {
      "text/plain": [
       "['Before',\n",
       " 'Everything Precious',\n",
       " 'A Promise',\n",
       " 'Breathe Once More',\n",
       " 'Abandoned',\n",
       " 'Tomb',\n",
       " 'East',\n",
       " 'The Opposite of Death',\n",
       " 'I See a Man',\n",
       " 'After']"
      ]
     },
     "execution_count": 4,
     "metadata": {},
     "output_type": "execute_result"
    }
   ],
   "source": [
    "import re \n",
    "pattern = re.compile(\"\\\\n([A-Za-z ]+)\\\\n\")\n",
    "titles = re.findall(pattern, book)\n",
    "titles = [title.strip(\"\\n\") for title in titles]\n",
    "titles"
   ]
  },
  {
   "cell_type": "code",
   "execution_count": 9,
   "id": "75bd1d2b-db6f-4aa7-8b86-0612f8ab111f",
   "metadata": {},
   "outputs": [
    {
     "name": "stdout",
     "output_type": "stream",
     "text": [
      "The word love was used 83 times in this book.\n"
     ]
    },
    {
     "data": {
      "text/plain": [
       "83"
      ]
     },
     "execution_count": 9,
     "metadata": {},
     "output_type": "execute_result"
    }
   ],
   "source": [
    "def find_word(word):\n",
    "    pattern = re.compile(f\".{word}[ \\,\\.\\?\\!]\")\n",
    "    occurances = re.findall(pattern, book.lower())\n",
    "    word_count = len(occurances)\n",
    "    if word_count == 0:\n",
    "        print(f\"The word {word} was not used in this book.\")\n",
    "    else:\n",
    "        print(f\"The word {word} was used {word_count} times in this book.\")\n",
    "    return occurances\n",
    "    \n",
    "love_count = find_word(\"love\")\n",
    "len(love_count)"
   ]
  },
  {
   "cell_type": "code",
   "execution_count": 8,
   "id": "ab63c062-5165-4a20-b428-bdab72b690cc",
   "metadata": {},
   "outputs": [
    {
     "data": {
      "text/plain": [
       "60"
      ]
     },
     "execution_count": 8,
     "metadata": {},
     "output_type": "execute_result"
    }
   ],
   "source": [
    "pattern = re.compile(\"\\\\n.*[Ll]ove.*\\\\n\")\n",
    "love_paras = re.findall(pattern, book)\n",
    "len(love_paras)"
   ]
  },
  {
   "cell_type": "code",
   "execution_count": null,
   "id": "51f1f15f-89af-4f49-abdb-ee3d9b2e628f",
   "metadata": {},
   "outputs": [],
   "source": []
  },
  {
   "cell_type": "code",
   "execution_count": null,
   "id": "bc1637b0-8546-4d2b-a77e-a556a66d5659",
   "metadata": {},
   "outputs": [],
   "source": []
  },
  {
   "cell_type": "code",
   "execution_count": null,
   "id": "e690a76a-f662-40e6-8e00-9e2f792e2e65",
   "metadata": {},
   "outputs": [],
   "source": []
  },
  {
   "cell_type": "code",
   "execution_count": null,
   "id": "dbfef051-db38-4ab6-afc1-53e0ae2619c8",
   "metadata": {},
   "outputs": [],
   "source": []
  },
  {
   "cell_type": "code",
   "execution_count": null,
   "id": "91e6b065-0be1-4786-af4d-1b52c28a18f4",
   "metadata": {},
   "outputs": [],
   "source": []
  }
 ],
 "metadata": {
  "kernelspec": {
   "display_name": "Python 3 (ipykernel)",
   "language": "python",
   "name": "python3"
  },
  "language_info": {
   "codemirror_mode": {
    "name": "ipython",
    "version": 3
   },
   "file_extension": ".py",
   "mimetype": "text/x-python",
   "name": "python",
   "nbconvert_exporter": "python",
   "pygments_lexer": "ipython3",
   "version": "3.10.9"
  }
 },
 "nbformat": 4,
 "nbformat_minor": 5
}
